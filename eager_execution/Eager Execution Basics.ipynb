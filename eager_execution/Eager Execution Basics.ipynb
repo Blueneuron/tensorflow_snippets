{
 "cells": [
  {
   "cell_type": "markdown",
   "metadata": {},
   "source": [
    "This code snipet references: https://www.tensorflow.org/tutorials/eager/eager_basics.\n",
    "\n",
    "The default behavior of tensorflow (at least up to R1.11) is to create computational graphs as one code in tensorflow. This means no actual computation is done until it is explicitly requested to do so through the use of a dedicated session. **With eager execution, computation is executed at each line of code.** This is much more similar to traditional programming behavior, that each line of code is executed immediately at compile time."
   ]
  },
  {
   "cell_type": "markdown",
   "metadata": {},
   "source": [
    "### 1. Set Up Eager Execution\n",
    "\n",
    "To turn on eager execution mode, simply add the `tf.enable_eager_execution()` line right after importing tensorflow."
   ]
  },
  {
   "cell_type": "code",
   "execution_count": 11,
   "metadata": {
    "collapsed": true
   },
   "outputs": [],
   "source": [
    "import numpy as np\n",
    "import tensorflow as tf\n",
    "tf.enable_eager_execution()"
   ]
  },
  {
   "cell_type": "markdown",
   "metadata": {},
   "source": [
    "### 2. Computation\n",
    "Under eager execution mode, computations on tensors are carried out immediately."
   ]
  },
  {
   "cell_type": "code",
   "execution_count": 10,
   "metadata": {},
   "outputs": [
    {
     "name": "stdout",
     "output_type": "stream",
     "text": [
      "tf.Tensor(3, shape=(), dtype=int32)\n",
      "tf.Tensor(2, shape=(), dtype=int32)\n",
      "tf.Tensor(49, shape=(), dtype=int32)\n",
      "tf.Tensor(5, shape=(), dtype=int32)\n",
      "tf.Tensor(81, shape=(), dtype=int32)\n",
      "tf.Tensor(15, shape=(), dtype=int32)\n"
     ]
    }
   ],
   "source": [
    "print(tf.add(1,2))\n",
    "print(tf.subtract(5,3))\n",
    "print(tf.multiply(7,7))\n",
    "print(tf.div(35,7))\n",
    "print(tf.square(9))\n",
    "print(tf.reduce_sum([1,2,3,4,5]))"
   ]
  },
  {
   "cell_type": "markdown",
   "metadata": {},
   "source": [
    "### 3. Conversion between Numpy Arrays & Tensors"
   ]
  },
  {
   "cell_type": "markdown",
   "metadata": {},
   "source": [
    "Conversions between numpy arrays and tensors also become easy"
   ]
  },
  {
   "cell_type": "code",
   "execution_count": 20,
   "metadata": {},
   "outputs": [
    {
     "name": "stdout",
     "output_type": "stream",
     "text": [
      "<class 'numpy.ndarray'> (3, 3, 3)\n",
      "<class 'tensorflow.python.framework.ops.EagerTensor'> (3, 3, 3)\n"
     ]
    }
   ],
   "source": [
    "# Ex. from np.array to tensor\n",
    "test = np.array([[[1,2,3],[2,3,4],[3,4,5]],\n",
    "                 [[4,5,6],[5,6,7],[6,7,8]],\n",
    "                 [[5,6,7],[6,7,8],[7,8,9]]])\n",
    "print(type(test), test.shape)\n",
    "test = tf.convert_to_tensor(test)\n",
    "print(type(test), test.get_shape())"
   ]
  },
  {
   "cell_type": "code",
   "execution_count": 24,
   "metadata": {},
   "outputs": [
    {
     "name": "stdout",
     "output_type": "stream",
     "text": [
      "<class 'tensorflow.python.framework.ops.EagerTensor'> (3, 3, 3)\n",
      "<class 'numpy.ndarray'> (3, 3, 3)\n"
     ]
    }
   ],
   "source": [
    "# Ex. from tensor to np.array\n",
    "test = tf.constant([[[1,2,3],[2,3,4],[3,4,5]],\n",
    "                    [[4,5,6],[5,6,7],[6,7,8]],\n",
    "                    [[5,6,7],[6,7,8],[7,8,9]]])\n",
    "print(type(test), test.get_shape())\n",
    "test = test.numpy()\n",
    "print(type(test), test.shape)"
   ]
  },
  {
   "cell_type": "markdown",
   "metadata": {},
   "source": [
    "Furthermore, operations between numpy arrays and tensors get handled automatically:"
   ]
  },
  {
   "cell_type": "code",
   "execution_count": 28,
   "metadata": {},
   "outputs": [
    {
     "name": "stdout",
     "output_type": "stream",
     "text": [
      "TensorFlow operations convert numpy arrays to Tensors automatically\n",
      "tf.Tensor(\n",
      "[[42. 42. 42.]\n",
      " [42. 42. 42.]\n",
      " [42. 42. 42.]], shape=(3, 3), dtype=float64) \n",
      "\n",
      "And NumPy operations convert Tensors to numpy arrays automatically\n",
      "[[43. 43. 43.]\n",
      " [43. 43. 43.]\n",
      " [43. 43. 43.]]\n"
     ]
    }
   ],
   "source": [
    "ndarray = np.ones([3, 3])\n",
    "\n",
    "print(\"TensorFlow operations convert numpy arrays to Tensors automatically\")\n",
    "tensor = tf.multiply(ndarray, 42)\n",
    "print(tensor,'\\n')\n",
    "\n",
    "print(\"And NumPy operations convert Tensors to numpy arrays automatically\")\n",
    "print(np.add(tensor, 1))"
   ]
  },
  {
   "cell_type": "markdown",
   "metadata": {},
   "source": [
    "### 4. Working with tf.Dataset\n",
    "\n",
    "Under eager execution mode, the tf.Dataset object becomes iterable. This means it can be applied with a normal Python for loop!"
   ]
  },
  {
   "cell_type": "code",
   "execution_count": 33,
   "metadata": {},
   "outputs": [
    {
     "name": "stdout",
     "output_type": "stream",
     "text": [
      "tf.Tensor([4 9], shape=(2,), dtype=int32)\n",
      "tf.Tensor([16 25], shape=(2,), dtype=int32)\n",
      "tf.Tensor([ 1 36], shape=(2,), dtype=int32)\n"
     ]
    }
   ],
   "source": [
    "data1 = tf.data.Dataset.from_tensor_slices([1,2,3,4,5,6])\n",
    "# apply transformation as part of data pipeline, shuffle and batch\n",
    "data1 = data1.map(tf.square).shuffle(6).batch(2)\n",
    "\n",
    "# iterate over the data batch created from data1\n",
    "for data_batch in data1:\n",
    "    print(data_batch)"
   ]
  }
 ],
 "metadata": {
  "kernelspec": {
   "display_name": "Python [default]",
   "language": "python",
   "name": "python3"
  },
  "language_info": {
   "codemirror_mode": {
    "name": "ipython",
    "version": 3
   },
   "file_extension": ".py",
   "mimetype": "text/x-python",
   "name": "python",
   "nbconvert_exporter": "python",
   "pygments_lexer": "ipython3",
   "version": "3.6.0"
  }
 },
 "nbformat": 4,
 "nbformat_minor": 2
}
